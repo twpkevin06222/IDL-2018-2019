{
 "cells": [
  {
   "cell_type": "markdown",
   "metadata": {},
   "source": [
    "# DAMP Dataset Pre-processing"
   ]
  },
  {
   "cell_type": "markdown",
   "metadata": {},
   "source": [
    "This notebook provides the functions to convert raw audio and lyrics into tfrecords. \n",
    "The main structure of the code are similar to DALI dataset pre-processing with some changes. \n",
    "This code is made possible by code reference from Jens Johannsmeier on Gitlab and also Oleksii Bashkanov DALI data preparation code."
   ]
  },
  {
   "cell_type": "markdown",
   "metadata": {},
   "source": [
    "The dataset is already split into training and testing, therefore the input will need to specifiy which dataset to input (training/testing)."
   ]
  },
  {
   "cell_type": "markdown",
   "metadata": {},
   "source": [
    "- Paper: [\"Semi-supervised Lyrics and Solo-singing Alignment\"](http://ismir2018.ircam.fr/doc/pdfs/30_Paper.pdf) by Gupta et al. \n",
    "- Dataset provided on googledrive: https://drive.google.com/drive/folders/1hGuE0Drv3tbN-YNRDzJJMHfzKH6e4O2A"
   ]
  },
  {
   "cell_type": "code",
   "execution_count": 1,
   "metadata": {},
   "outputs": [],
   "source": [
    "import os\n",
    "os.environ[\"CUDA_VISIBLE_DEVICES\"] = \"0\""
   ]
  },
  {
   "cell_type": "code",
   "execution_count": 2,
   "metadata": {},
   "outputs": [],
   "source": [
    "import numpy as np\n",
    "import librosa\n",
    "%matplotlib inline  \n",
    "import matplotlib.pyplot as plt\n",
    "import librosa.display\n",
    "import pickle \n",
    "import re #regular expression\n",
    "import tensorflow as tf\n",
    "from functools import reduce"
   ]
  },
  {
   "cell_type": "markdown",
   "metadata": {},
   "source": [
    "# Methods for processing audio"
   ]
  },
  {
   "cell_type": "code",
   "execution_count": 3,
   "metadata": {},
   "outputs": [],
   "source": [
    "def raw_to_mel(audio, sampling_rate, window_size, hop_length, n_freqs):\n",
    "    \"\"\"Go from 1D numpy array containing audio waves to mel spectrogram.\n",
    "\n",
    "    Parameters:\n",
    "        audio: 1D numpy array containing the audio.\n",
    "        sampling_rate: Sampling rate of audio.\n",
    "        window_size: STFT window size.\n",
    "        hop_length: Distance between successive STFT windows.\n",
    "        n_freqs: Number of mel frequency bins.\n",
    "\n",
    "    Returns:\n",
    "        Processed spectrogram, bins x time.\n",
    "\n",
    "    \"\"\"    \n",
    "    spectro = librosa.stft(audio, n_fft=window_size, hop_length=hop_length,\n",
    "                           center=True)\n",
    "    power = np.abs(spectro)**2\n",
    "    mel = librosa.feature.melspectrogram(S=power, sr=sampling_rate,\n",
    "                                         n_mels=n_freqs)\n",
    "    logmel = np.log(mel + 1e-11)\n",
    "    return logmel\n",
    "\n",
    "def raw_to_pcen(audio, sampling_rate, window_size, hop_length, n_freqs):\n",
    "    \"\"\"Go from 1D numpy array containing audio waves to PCEN spectrogram.\n",
    "\n",
    "    Parameters might not be optimal...\n",
    "\n",
    "    Parameters:\n",
    "        audio: 1D numpy array containing the audio.\n",
    "        sampling_rate: Sampling rate of audio.\n",
    "        window_size: STFT window size.\n",
    "        hop_length: Distance between successive STFT windows.\n",
    "        n_freqs: Number of mel frequency bins.\n",
    "\n",
    "    Returns:\n",
    "        PCEN spectrogram, bins x time.\n",
    "\n",
    "    \"\"\"\n",
    "    spectro = np.abs(librosa.stft(audio, n_fft=window_size,\n",
    "                                  hop_length=hop_length, center=True))\n",
    "    mel = librosa.feature.melspectrogram(S=spectro, sr=sampling_rate,\n",
    "                                         n_mels=n_freqs)\n",
    "    pcen = librosa.pcen(mel, sr=sampling_rate, hop_length=hop_length,\n",
    "                        time_constant=0.285)\n",
    "    return pcen\n",
    "\n",
    "def chs_to_inds(char_list, mapping):\n",
    "    \"\"\"Helper to convert a list of characters to a list of corresponding indices.\n",
    "\n",
    "    Parameters:\n",
    "        char_list: List of characters (or string).\n",
    "        mapping: Dict mapping characters to indices.\n",
    "\n",
    "    Returns:\n",
    "        List of character indices.\n",
    "    \"\"\"\n",
    "    return [mapping[ch] for ch in char_list]"
   ]
  },
  {
   "cell_type": "code",
   "execution_count": 4,
   "metadata": {},
   "outputs": [],
   "source": [
    "def trim_audio(audio, sr, start, end):\n",
    "    \"\"\"start, end - in seconds (float)\n",
    "    Return:\n",
    "        Trimmed audio, None if out of boudaries\n",
    "    \"\"\"\n",
    "    assert start < end, \"End time step should be bigger then start time step.\"\n",
    "    audio_segment = audio[round(start*sr): round(end*sr)]\n",
    "    return audio_segment\n",
    "\n",
    "def mel_plot(S):\n",
    "    plt.figure(figsize=(10,4))\n",
    "    librosa.display.specshow(librosa.amplitude_to_db(S, ref=np.max), #convert power to db\n",
    "                             y_axis='log',x_axis='time')\n",
    "    plt.colorbar(format='%+2.0f dB')\n",
    "    plt.title('Mel spectrogram')\n",
    "    plt.tight_layout()\n",
    "    return plt.show()\n",
    "\n",
    "def audio_stack(audio_dir, audio_path, trim = True):\n",
    "    '''\n",
    "    If trim is True, silent region 2s before and after the audio will be removed\n",
    "    \n",
    "    Returns: \n",
    "        List of audio\n",
    "        Sampling rate\n",
    "        List of audio duration\n",
    "    '''\n",
    "    audio_list = [] #audio time-series\n",
    "    t_list = [] #time duration \n",
    "    for audio in audio_dir:\n",
    "        path = os.path.join(audio_path, audio)\n",
    "        y, sr = librosa.load(path)\n",
    "        if trim == True:\n",
    "            y = trim_audio(y, sr, 2, audio_length-2)\n",
    "        audio_list.append(y)\n",
    "        t_list.append(librosa.get_duration(y=y, sr=sr))\n",
    "    \n",
    "    print('Sample rate: {} Hz'.format(sr)) #sample rate is same for all audio    \n",
    "    return audio_list, sr, t_list"
   ]
  },
  {
   "cell_type": "markdown",
   "metadata": {},
   "source": [
    "# Melspectogram plot for one example"
   ]
  },
  {
   "cell_type": "code",
   "execution_count": 5,
   "metadata": {
    "scrolled": true
   },
   "outputs": [
    {
     "data": {
      "image/png": "[encoded data removed]",
      "text/plain": [
       "<Figure size 720x288 with 2 Axes>"
      ]
     },
     "metadata": {
      "needs_background": "light"
     },
     "output_type": "display_data"
    },
    {
     "name": "stdout",
     "output_type": "stream",
     "text": [
      "Size of mel-spectogram:  (128, 454)\n",
      "Sample rate: 22050\n"
     ]
    }
   ],
   "source": [
    "test_audio_file = 'DAMP_test'\n",
    "\n",
    "file_loc = os.path.join(test_audio_file,'70957290_37707910_how_you_remind_me_02_Machine1_0.wav')\n",
    "audio, sr = librosa.load(file_loc)\n",
    "audio_length = librosa.get_duration(y=audio, sr=sr)\n",
    "audio_segment = trim_audio(audio, sr, 2, audio_length-2)\n",
    "logmel = raw_to_mel(audio_segment, sr, window_size = 2048, hop_length = 512, n_freqs = 128)\n",
    "mel_plot(logmel)\n",
    "\n",
    "print(\"Size of mel-spectogram: \", logmel.shape)\n",
    "print(\"Sample rate:\", sr)"
   ]
  },
  {
   "cell_type": "markdown",
   "metadata": {},
   "source": [
    "Specify test and training data directory"
   ]
  },
  {
   "cell_type": "code",
   "execution_count": 6,
   "metadata": {
    "scrolled": false
   },
   "outputs": [],
   "source": [
    "test_audio_file = 'DAMP_test'\n",
    "train_audio_file = 'DAMP_train'\n",
    "\n",
    "test_audio_dir = sorted(os.listdir(test_audio_file))\n",
    "train_audio_dir = sorted(os.listdir(train_audio_file))"
   ]
  },
  {
   "cell_type": "code",
   "execution_count": 7,
   "metadata": {},
   "outputs": [
    {
     "name": "stdout",
     "output_type": "stream",
     "text": [
      "Number of audio for training:  35662\n",
      "Number of audio for testing:  1697\n"
     ]
    }
   ],
   "source": [
    "print('Number of audio for training: ',len(train_audio_dir))\n",
    "print('Number of audio for testing: ',len(test_audio_dir))"
   ]
  },
  {
   "cell_type": "markdown",
   "metadata": {},
   "source": [
    "# Methods for processing text"
   ]
  },
  {
   "cell_type": "code",
   "execution_count": 8,
   "metadata": {},
   "outputs": [],
   "source": [
    "def remove_header(read_txt, write_txt):\n",
    "    '''\n",
    "    Remove header from lyrics transcription.\n",
    "    \n",
    "    Parameters:\n",
    "        read_txt: Lyrics transcription text file that contains header\n",
    "        write_txt: New txt file with lyrics without header\n",
    "    \n",
    "    Return:\n",
    "        A list of lyrics header to check alignment of audio segment\n",
    "    '''\n",
    "    f = open(read_txt, 'r')\n",
    "    l = []\n",
    "    k = []\n",
    "    write_file = open(write_txt,'w')\n",
    "    for x in f:\n",
    "        l.append((x.split(' ',1)[0])) #headers before the true lyrics start\n",
    "        k.append((x.split(' ',1)[1])) #lyrics transcription without headers\n",
    "    #Example\n",
    "#     print('Headers:',l[0])\n",
    "#     print('Lyrics without headers:', k[0])\n",
    "    \n",
    "    for i in range(len(k)):    \n",
    "        write_file.write(k[i])\n",
    "    return l\n",
    "\n",
    "def map_text2char(read_txt):\n",
    "    '''\n",
    "    Remove special characters/symbols and convert all characters into lower case\n",
    "    Parameters:\n",
    "        read_txt: Txt file to be input\n",
    "    '''\n",
    "    chars = set()\n",
    "    with open(read_txt) as text:\n",
    "        for line in text:\n",
    "            line = re.sub('[^A-Za-z\\']+', ' ', line).lower()\n",
    "            chars.update(set(line))\n",
    "        mapping = dict(zip(chars, range(3, len(chars)+3)))\n",
    "        mapping[\"<PAD>\"] = 0\n",
    "        mapping[\"<S>\"] = 1\n",
    "        mapping[\"</S>\"] = 2\n",
    "\n",
    "    #save vocab\n",
    "    with open('damp_vocab', 'wb') as fp:\n",
    "        pickle.dump(mapping, fp)\n",
    "        \n",
    "    return mapping\n",
    "\n",
    "def enumerate_lines(file):\n",
    "    \"\"\"\n",
    "    Enumerate lines in lyrics transcript for iteration\n",
    "    \n",
    "    Parameter:\n",
    "    file: test/train lyrics transcript\n",
    "    \"\"\"\n",
    "    with open(file) as text:\n",
    "        return [line for i, line in enumerate(text)]"
   ]
  },
  {
   "cell_type": "markdown",
   "metadata": {},
   "source": [
    "## Iterate over whole dataset to create dictionary"
   ]
  },
  {
   "cell_type": "markdown",
   "metadata": {},
   "source": [
    "Dictionary for training data"
   ]
  },
  {
   "cell_type": "code",
   "execution_count": 9,
   "metadata": {},
   "outputs": [
    {
     "name": "stdout",
     "output_type": "stream",
     "text": [
      "{'x': 3, 'u': 4, \"'\": 5, 'f': 6, 't': 7, 'd': 8, 'b': 9, 'h': 10, 'e': 11, 'a': 12, 'm': 13, 'i': 14, 'w': 15, 'z': 16, 'y': 17, 'o': 18, 'c': 19, 'g': 20, 'q': 21, 'k': 22, ' ': 23, 'p': 24, 'v': 25, 'r': 26, 's': 27, 'n': 28, 'l': 29, 'j': 30, '<PAD>': 0, '<S>': 1, '</S>': 2}\n"
     ]
    }
   ],
   "source": [
    "train_remove_header = remove_header('DAMP_train.txt','DAMP_train_lyrics.txt')\n",
    "train_enum = enumerate_lines('DAMP_train_lyrics.txt')\n",
    "train_mapping = map_text2char('DAMP_train_lyrics.txt')\n",
    "print(train_mapping)"
   ]
  },
  {
   "cell_type": "markdown",
   "metadata": {},
   "source": [
    "Dictionary for test data"
   ]
  },
  {
   "cell_type": "code",
   "execution_count": 10,
   "metadata": {
    "scrolled": false
   },
   "outputs": [
    {
     "name": "stdout",
     "output_type": "stream",
     "text": [
      "{'x': 3, 'u': 4, \"'\": 5, 'f': 6, 't': 7, 'd': 8, 'b': 9, 'a': 10, 'e': 11, 'm': 12, 'h': 13, 'i': 14, 'w': 15, 'z': 16, 'y': 17, 'o': 18, 'c': 19, 'g': 20, 'q': 21, 'k': 22, ' ': 23, 'v': 24, 'p': 25, 'l': 26, 's': 27, 'r': 28, 'n': 29, 'j': 30, '<PAD>': 0, '<S>': 1, '</S>': 2}\n"
     ]
    }
   ],
   "source": [
    "test_remove_header = remove_header('DAMP_test.txt','DAMP_test_lyrics.txt')\n",
    "test_enum = enumerate_lines('DAMP_test_lyrics.txt')\n",
    "test_mapping = map_text2char('DAMP_test_lyrics.txt')\n",
    "print(test_mapping)"
   ]
  },
  {
   "cell_type": "markdown",
   "metadata": {},
   "source": [
    "Example"
   ]
  },
  {
   "cell_type": "code",
   "execution_count": 11,
   "metadata": {},
   "outputs": [
    {
     "name": "stdout",
     "output_type": "stream",
     "text": [
      "IT'S BIGGER IT'S BIGGER THAN YOU AND YOU ARE NOT ME \n",
      "\n",
      "MAKES YOU FEEL SO SMALL BUT I SEE YOUR TRUE COLORS SHINING THROUGH I SEE YOUR \n",
      "\n"
     ]
    }
   ],
   "source": [
    "print(train_enum[0])\n",
    "print(test_enum[0])"
   ]
  },
  {
   "cell_type": "code",
   "execution_count": 12,
   "metadata": {
    "scrolled": true
   },
   "outputs": [
    {
     "name": "stdout",
     "output_type": "stream",
     "text": [
      "makes you feel so small but i see your true colors shining through i see your  \n",
      "\n",
      "can't remember when i last saw you laughing if this world makes you crazy and you've taken  \n",
      "\n",
      "stronger power i got that power i got that power  \n",
      "\n",
      "y on my way to that valet used to have a piggy bank but now i got that bigger bank who who cares what the haters say they hate on me cuz we doing what they can't i stay on that hustle  \n",
      "\n",
      "hustle i flex that mental muscle hate to burst your bubble i'm on that other level imma take it higher and high high and higher i stay and buy attire  \n",
      "\n",
      "i'm loving every second minute hour bigger better stronger power i got that power  \n",
      "\n",
      "i got that power i got that power power power power ye ye ye yes y'all feeling funky fresh y'all work to be the  \n",
      "\n",
      "under pressure been through all that stress y'all get get this off my chest y'all made it out them projects with this project that's progress y'all i did it for my mama i told her when i was younger  \n",
      "\n",
      "that imma be that number one yup i'll be that number one i take it higher and high high and higher i stay and buy attire keep burning like that  \n",
      "\n",
      "me like a batter ram batter ram i'm knocking knocking down that door again door again concord  \n",
      "\n"
     ]
    }
   ],
   "source": [
    "for i in range(10):\n",
    "    for line in test_enum[i]:\n",
    "        line = re.sub('[^A-Za-z0-9\\']+', ' ', line).lower()\n",
    "        mapped = [test_mapping[\"<S>\"]] + chs_to_inds(line, test_mapping) + [test_mapping[\"</S>\"]]\n",
    "        print(line,end='')\n",
    "    print('\\n')"
   ]
  },
  {
   "cell_type": "markdown",
   "metadata": {},
   "source": [
    "## Debugging Aligment of Lyrics Transcription with associated Audio Segments"
   ]
  },
  {
   "cell_type": "markdown",
   "metadata": {},
   "source": [
    "Compare headers of audio segment w.r.t lyrics transcription to ensure that the sequence are matched."
   ]
  },
  {
   "cell_type": "code",
   "execution_count": 13,
   "metadata": {},
   "outputs": [],
   "source": [
    "def extension_remover(audio_dir):\n",
    "    \"\"\"\n",
    "    Remove .wav extension from audio segments\n",
    "    Parameter: \n",
    "        audio_dir:test_audio_dir/ train_audio_dir\n",
    "    Return:\n",
    "        List of audio header without .wav \n",
    "    \"\"\"\n",
    "    c = audio_dir\n",
    "    l=[c[i].split('.wav')[0] for i in range(len(c))]\n",
    "    return l\n",
    "\n",
    "def comparison(audio_list, lyrics_list):\n",
    "    \"\"\"\n",
    "    Compare headers of audio segment w.r.t lyrics transcription \n",
    "    to ensure that the sequence are matched.\n",
    "    Parameter:\n",
    "        audio_list: audio header list\n",
    "        lyrics_list: lyrics header list\n",
    "    \"\"\"\n",
    "    if len(audio_list)==len(lyrics_list):\n",
    "        print('Length-aligned!')\n",
    "        for i in range(len(audio_list)):\n",
    "            if audio_list[i] != lyrics_list[i]:\n",
    "                print('Index that is not aligned: ',i)"
   ]
  },
  {
   "cell_type": "code",
   "execution_count": 14,
   "metadata": {},
   "outputs": [
    {
     "name": "stdout",
     "output_type": "stream",
     "text": [
      "Length-aligned!\n",
      "Length-aligned!\n"
     ]
    }
   ],
   "source": [
    "train_list_noheader = extension_remover(train_audio_dir)\n",
    "test_list_noheader = extension_remover(test_audio_dir)\n",
    "\n",
    "comparison(train_list_noheader, train_remove_header)\n",
    "comparison(test_list_noheader, test_remove_header)"
   ]
  },
  {
   "cell_type": "markdown",
   "metadata": {},
   "source": [
    "## Create .npy"
   ]
  },
  {
   "cell_type": "code",
   "execution_count": 15,
   "metadata": {},
   "outputs": [],
   "source": [
    "def convert_to_numpy(audio_list, output_path,npy_name):\n",
    "    audio_list=np.asarray(audio_list)\n",
    "    outputfilepath=os.path.join(output_path,npy_name)\n",
    "    np.save(outputfilepath +'.npy', audio_list)"
   ]
  },
  {
   "cell_type": "code",
   "execution_count": 16,
   "metadata": {},
   "outputs": [],
   "source": [
    "output_path = os.getcwd()"
   ]
  },
  {
   "cell_type": "code",
   "execution_count": 17,
   "metadata": {},
   "outputs": [
    {
     "name": "stdout",
     "output_type": "stream",
     "text": [
      "Sample rate: 22050 Hz\n"
     ]
    }
   ],
   "source": [
    "audio_list_test, sr, _ = audio_stack(test_audio_dir, test_audio_file)\n",
    "convert_to_numpy(audio_list_test, output_path, 'DAMP_test')"
   ]
  },
  {
   "cell_type": "code",
   "execution_count": null,
   "metadata": {},
   "outputs": [],
   "source": [
    "audio_list_train, sr, _ = audio_stack(train_audio_dir, train_audio_file)\n",
    "convert_to_numpy(audio_list_train, output_path, 'DAMP_train')"
   ]
  },
  {
   "cell_type": "markdown",
   "metadata": {},
   "source": [
    "# Tfrecords creation"
   ]
  },
  {
   "cell_type": "code",
   "execution_count": null,
   "metadata": {},
   "outputs": [],
   "source": [
    "def create_tfrecords(out_filename, enum_list, audio_list, func=raw_to_mel, path_to_save=''):\n",
    "    \"\"\"Process audio files and annotations into TFRecords data file.\n",
    "\n",
    "    Parameters:\n",
    "        out_filename: 1D numpy array containing the audio.\n",
    "        enum_list: enumarate list of text line from lyrics script.\n",
    "        audio_list: list of input audio_dir (test/train)\n",
    "        func: Function for audio representation, by default raw_to_mel\n",
    "                (others: raw_to_pcen)\n",
    "    \"\"\"\n",
    "    if path_to_save:\n",
    "        print(\"tfrecords will be saved here:\", path_to_save)\n",
    "        if not os.path.exists(path_to_save):\n",
    "            os.makedirs(path_to_save)\n",
    "        target_path = path_to_save\n",
    "    else:\n",
    "        print(\"Current working directory is used to save tfrecords:\", os.getcwd())\n",
    "        target_path = os.getcwd()\n",
    "        \n",
    "    with tf.python_io.TFRecordWriter(os.path.join(target_path, out_filename + \".tfrecords\")) as writer:\n",
    "        for i in range(len(audio_list)):\n",
    "            logmel = func(audio_list[i], sr, window_size = 2048, hop_length = 512, n_freqs = 128)\n",
    "            for line in enum_list[i]:\n",
    "                line = re.sub('[^A-Za-z0-9\\']+', ' ', line).lower()\n",
    "                mapped_seq = [test_mapping[\"<S>\"]] + chs_to_inds(line, test_mapping) + [test_mapping[\"</S>\"]]    \n",
    "\n",
    "            flatten_logmel_shape = reduce(lambda x, y: x * y, logmel.shape)\n",
    "            flatten_logmel = np.reshape(logmel, [flatten_logmel_shape, ])\n",
    "\n",
    "            tfex = tf.train.Example(features=tf.train.Features(feature={\n",
    "                \"seq\": tf.train.Feature(int64_list=tf.train.Int64List(value=mapped_seq)),\n",
    "                \"mel\": tf.train.Feature(float_list=tf.train.FloatList(value=flatten_logmel)),\n",
    "                \"mel_shape\": tf.train.Feature(int64_list=tf.train.Int64List(value=logmel.shape))\n",
    "\n",
    "            }))\n",
    "            writer.write(tfex.SerializeToString())\n",
    "        print(\"Saved to: {}\".format(os.path.join(target_path, out_filename + \".tfrecords\")))"
   ]
  },
  {
   "cell_type": "markdown",
   "metadata": {},
   "source": [
    "Create TFRECORDS for training dataset"
   ]
  },
  {
   "cell_type": "code",
   "execution_count": null,
   "metadata": {},
   "outputs": [],
   "source": [
    "create_tfrecords(out_filename=\"DAMP_train\", enum_list=train_enum, audio_list=audio_list_train, path_to_save=\"tfrecs\")"
   ]
  },
  {
   "cell_type": "markdown",
   "metadata": {},
   "source": [
    "Create TFRECORDS for test dataset"
   ]
  },
  {
   "cell_type": "code",
   "execution_count": null,
   "metadata": {
    "scrolled": true
   },
   "outputs": [],
   "source": [
    "create_tfrecords(out_filename=\"DAMP_test\", enum_list=test_enum, audio_list=audio_list_test, path_to_save=\"tfrecs\")"
   ]
  },
  {
   "cell_type": "markdown",
   "metadata": {},
   "source": [
    "## Example of .tfrecords usage"
   ]
  },
  {
   "cell_type": "code",
   "execution_count": null,
   "metadata": {},
   "outputs": [],
   "source": [
    "def parse_seq(example_proto):\n",
    "    \"\"\"\n",
    "    Needed to read the stored .tfrecords data -- import this in your\n",
    "    training script.\n",
    "    \n",
    "    Parameters:\n",
    "        example_proto: Protocol buffer of single example.\n",
    "    Return: \n",
    "        Tuple of Tensors containing the logmel spectogram and parsed sequence.\n",
    "    \"\"\"\n",
    "    features = {\"seq\": tf.VarLenFeature(tf.int64),\n",
    "                \"mel\": tf.VarLenFeature(tf.float32),\n",
    "                \"mel_shape\": tf.FixedLenFeature([2], tf.int64)}\n",
    "    parsed_features = tf.parse_single_example(example_proto, features)\n",
    "    sparse_seq = parsed_features[\"seq\"]\n",
    "    sparse_mel= parsed_features[\"mel\"]\n",
    "    mel = tf.sparse_to_dense(sparse_mel.indices, sparse_mel.dense_shape, sparse_mel.values)\n",
    "    mel = tf.reshape(mel, parsed_features[\"mel_shape\"])\n",
    "    seq = tf.sparse_to_dense(sparse_seq.indices, sparse_seq.dense_shape, sparse_seq.values)\n",
    "    return mel, seq"
   ]
  },
  {
   "cell_type": "code",
   "execution_count": null,
   "metadata": {},
   "outputs": [],
   "source": [
    "out_path = \"/home/kevinteng/Desktop/ASR/tfrecs/test\"\n",
    "data = tf.data.TFRecordDataset(out_path + \".tfrecords\")\n",
    "data = data.map(lambda x: parse_seq(x))\n",
    "data = data.padded_batch(4, padded_shapes=([100, None],[None]))\n",
    "\n",
    "iterator = data.make_initializable_iterator()\n",
    "next_batch = iterator.get_next()\n",
    "\n",
    "with tf.Session() as sess:\n",
    "    sess.run(iterator.initializer)\n",
    "    for i in range(1):\n",
    "        example = sess.run([next_batch])\n",
    "        print(example)\n",
    "        print(\"Mel spectr. - {}\".format(example[0][0].shape), \"Sequence - {}\".format(example[0][1].shape))"
   ]
  }
 ],
 "metadata": {
  "kernelspec": {
   "display_name": "Python 3",
   "language": "python",
   "name": "python3"
  },
  "language_info": {
   "codemirror_mode": {
    "name": "ipython",
    "version": 3
   },
   "file_extension": ".py",
   "mimetype": "text/x-python",
   "name": "python",
   "nbconvert_exporter": "python",
   "pygments_lexer": "ipython3",
   "version": "3.6.6"
  }
 },
 "nbformat": 4,
 "nbformat_minor": 2
}
